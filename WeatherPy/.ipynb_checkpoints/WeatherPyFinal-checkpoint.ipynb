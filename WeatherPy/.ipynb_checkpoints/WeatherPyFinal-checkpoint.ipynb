{
 "cells": [
  {
   "cell_type": "code",
   "execution_count": 38,
   "metadata": {},
   "outputs": [],
   "source": [
    "# Dependencies and Setup\n",
    "import matplotlib.pyplot as plt\n",
    "import pandas as pd\n",
    "import numpy as np\n",
    "import requests\n",
    "import time\n",
    "from scipy.stats import linregress\n",
    "import json\n",
    "from pprint import pprint\n",
    "from pandas.io.json import json_normalize\n",
    "import csv\n",
    "\n",
    "# Import API key\n",
    "from api_keys import weather_api_key\n",
    "\n",
    "# Incorporated citipy to determine city based on latitude and longitude\n",
    "from citipy import citipy\n",
    "\n",
    "# Output File (CSV)\n",
    "output_data_file = \"Output_data/cities.csv\"\n",
    "\n",
    "# Range of latitudes and longitudes\n",
    "lat_range = (-90, 90)\n",
    "lng_range = (-180, 180)\n"
   ]
  },
  {
   "cell_type": "code",
   "execution_count": 39,
   "metadata": {},
   "outputs": [
    {
     "data": {
      "text/plain": [
       "601"
      ]
     },
     "execution_count": 39,
     "metadata": {},
     "output_type": "execute_result"
    }
   ],
   "source": [
    "# List for holding lat_lngs and cities\n",
    "lat_lngs = []\n",
    "cities = []\n",
    "\n",
    "\n",
    "# Create a set of random lat and lng combinations\n",
    "lats = np.random.uniform(low=-90.000, high=90.000, size=1500)\n",
    "lngs = np.random.uniform(low=-180.000, high=180.000, size=1500)\n",
    "lat_lngs = zip(lats, lngs)\n",
    "\n",
    "# Identify nearest city for each lat, lng combination\n",
    "for lat_lng in lat_lngs:\n",
    "    city = citipy.nearest_city(lat_lng[0], lat_lng[1]).city_name\n",
    "    \n",
    "    # If the city is unique, then add it to a our cities list and note the latitude\n",
    "    if city not in cities:\n",
    "        cities.append(city)\n",
    "        \n",
    "\n",
    "# Print the city count to confirm sufficient count\n",
    "len(cities)\n",
    "\n"
   ]
  },
  {
   "cell_type": "code",
   "execution_count": 40,
   "metadata": {},
   "outputs": [
    {
     "name": "stdout",
     "output_type": "stream",
     "text": [
      "['saint-philippe', 'arbuzynka', 'ormara', 'opobo', 'ushuaia', 'atascadero', 'rikitea', 'bluff', 'talnakh', 'tsihombe', 'kavieng', 'esna', 'colesberg', 'kailua', 'saskylakh', 'punta arenas', 'kapaa', 'cairns', 'acapulco', 'albany', 'geraldton', 'busselton', 'port alfred', 'arraial do cabo', 'belushya guba', 'barentsburg', 'tabialan', 'kodiak', 'holme', 'goderich', 'lebu', 'louisbourg', 'astoria', 'aleksandrovka', 'vaitupu', 'samusu', 'ribeira grande', 'lermontovka', 'fairbanks', 'sembe', 'eatonton', 'bredasdorp', 'whitianga', 'vaini', 'pasighat', 'illoqqortoormiut', 'lorengau', 'tuktoyaktuk', 'alpena', 'sanok', 'pangnirtung', 'kruisfontein', 'chokurdakh', 'eureka', 'hithadhoo', 'zhuhai', 'khandyga', 'thompson', 'esperance', 'bilibino', 'marzuq', 'samarinda', 'butaritari', 'tahe', 'puerto ayora', 'puerto montt', 'ekhabi', 'alofi', 'dhidhdhoo', 'bethel', 'santander', 'billings', 'grand river south east', 'taunggyi', 'mar del plata', 'evanston', 'mataura', 'porto velho', 'beloha', 'avarua', 'taolanaro', 'nanortalik', 'cuamba', 'jamestown', 'sokone', 'port elizabeth', 'rizhao', 'mahebourg', 'daru', 'hilo', 'cidreira', 'terme', 'minna', 'hobart', 'pingliang', 'yei', 'goiatuba', 'atuona', 'borgo san dalmazzo', 'buta', 'sibolga', 'shirokiy', 'namibe', 'barabai', 'upernavik', 'hofn', 'airai', 'santa maria', 'siderno', 'castro', 'rocha', 'vetlanda', 'torbay', 'coahuayana', 'new norfolk', 'salalah', 'ola', 'surt', 'arlit', 'qaqortoq', 'ukrayinka', 'svetlogorsk', 'chester', 'usinsk', 'tarko-sale', 'zmeinogorsk', 'cape town', 'khani', 'isangel', 'nikolskoye', 'antofagasta', 'chuy', 'deputatskiy', 'cabo san lucas', 'okhotsk', 'lavrentiya', 'mount isa', 'palmer', 'awjilah', 'qiqihar', 'la ronge', 'nanakuli', 'vila franca do campo', 'naze', 'cheuskiny', 'luderitz', 'sur', 'ye', 'portland', 'micheweni', 'lins', 'longyearbyen', 'kristiinankaupunki', 'fort nelson', 'shenjiamen', 'rzhaksa', 'rio branco', 'dudinka', 'dauriya', 'antalaha', 'san quintin', 'merritt island', 'plouzane', 'otavi', 'berlevag', 'buariki', 'brae', 'suntar', 'east london', 'teguise', 'yellowknife', 'pevek', 'bambanglipuro', 'fortuna', 'tautira', 'baykit', 'vestmanna', 'tecoanapa', 'pokhara', 'barrow', 'codrington', 'moramanga', 'dikson', 'dingle', 'tasiilaq', 'rungata', 'dien bien', 'jackson', 'amderma', 'sola', 'warqla', 'mys shmidta', 'komsomolskiy', 'kirando', 'saint-augustin', 'karlskrona', 'vardo', 'roald', 'cavalcante', 'hauterive', 'cherskiy', 'hamilton', 'qianguo', 'port moresby', 'carnarvon', 'umzimvubu', 'saryshagan', 'san ignacio', 'kanniyakumari', 'padang', 'katsuura', 'san patricio', 'kaitangata', 'ketchikan', 'kerema', 'saleaula', 'laguna', 'port lincoln', 'lasa', 'abu samrah', 'luanda', 'bambous virieux', 'safaga', 'pitimbu', 'georgetown', 'eyl', 'upata', 'beyneu', 'nizhneyansk', 'texistepeque', 'murray bridge', 'pontes e lacerda', 'namatanai', 'qaanaaq', 'provideniya', 'saint-joseph', 'miri', 'vertientes', 'ponta do sol', 'singaparna', 'erenhot', 'sitka', 'caratinga', 'hermanus', 'mnogovershinnyy', 'malwan', 'thap than', 'conceicao do araguaia', 'khatanga', 'yumen', 'praia da vitoria', 'aklavik', 'nurota', 'dingolfing', 'karkaralinsk', 'axim', 'madimba', 'mecca', 'sao filipe', 'paraiso', 'alamosa', 'ous', 'karauzyak', 'tongliao', 'mareeba', 'westport', 'bhatkal', 'ardistan', 'lolua', 'sambava', 'yilan', 'karratha', 'ixtapa', 'luganville', 'chaozhou', 'ulladulla', 'lagoa', 'attawapiskat', 'ilulissat', 'edeia', 'sorland', 'rock sound', 'sao joao da barra', 'dunedin', 'allangigan', 'santa ines', 'aitape', 'sterling', 'alberton', 'vicuna', 'coruripe', 'tumannyy', 'nome', 'shahdadkot', 'quatre cocos', 'college', 'pringsewu', 'wonthaggi', 'skalistyy', 'lagdo', 'karur', 'okha', 'barcelos', 'havoysund', 'saint pete beach', 'znamenskoye', 'longlac', 'norman wells', 'lethem', 'petauke', 'aykhal', 'vysokogornyy', 'saldanha', 'jutai', 'vila', 'victoria', 'hayden', 'hualmay', 'sinnamary', 'henties bay', 'hermosillo', 'te anau', 'muroto', 'seoul', 'hobyo', 'manpur', 'mercedes', 'port augusta', 'turukhansk', 'caravelas', 'espanola', 'porto nacional', 'anchorage', 'faanui', 'vestmannaeyjar', 'bo phloi', 'jatai', 'miraflores', 'bolshaya atnya', 'ouadda', 'monteria', 'torres', 'zyryanka', 'marcona', 'skjervoy', 'azrow', 'tuatapere', 'guerrero negro', 'la asuncion', 'pustoshka', 'skole', 'epinal', 'korla', 'udachnyy', 'ornskoldsvik', 'ahipara', 'beringovskiy', 'kavaratti', 'malesici', 'tarudant', 'madison', 'buala', 'tungkang', 'kenai', 'hasaki', 'kadykchan', 'tateyama', 'albury', 'aktash', 'san nicolas', 'nalagarh', 'jahanabad', 'kalat', 'kamenskoye', 'port blair', 'saint george', 'avera', 'uchiza', 'ponta delgada', 'pisco', 'gigmoto', 'puerto del rosario', 'warrington', 'laukaa', 'constitucion', 'kaili', 'touros', 'mokhsogollokh', 'kanker', 'kisangani', 'inta', 'strathmore', 'piacabucu', 'meyungs', 'west bay', 'natal', 'alexandria', 'leningradskiy', 'fayaoue', 'ismailia', 'greensburg', 'gat', 'yirol', 'trelew', 'jawhar', 'galiwinku', 'corner brook', 'solwezi', 'egvekinot', 'artyk', 'sandpoint', 'carnot', 'aswan', 'hay river', 'mananjary', 'tomatlan', 'aflu', 'kesinga', 'byron bay', 'takoradi', 'uvat', 'sorong', 'bilma', 'margate', 'maimon', 'mehamn', 'madang', 'jalu', 'lalomanu', 'unity', 'ustupo', 'san cristobal', 'novoanninskiy', 'makakilo city', 'roblin', 'gorontalo', 'vetluzhskiy', 'ngukurr', 'tidore', 'dobson', 'havre-saint-pierre', 'petropavlovsk-kamchatskiy', 'imeni stepana razina', 'diamantino', 'semporna', 'millinocket', 'ust-nera', 'tefe', 'kaminokawa', 'bodmin', 'krasnoselkup', 'kachiry', 'tessalit', 'labuhan', 'clyde river', 'banikoara', 'elko', 'houma', 'tiksi', 'atambua', 'zhigansk', 'hokitika', 'lang son', 'igrim', 'zwedru', 'taltal', 'goulburn', 'moerai', 'bocaranga', 'coihaique', 'chingirlau', 'narsaq', 'kyren', 'gurskoye', 'bulawayo', 'pangody', 'ambulu', 'tahta', 'khatra', 'chimbarongo', 'pincher creek', 'kerki', 'cumana', 'santa vitoria do palmar', 'cayenne', 'la suiza', 'kudahuvadhoo', 'nenjiang', 'seymour', 'camopi', 'sistranda', 'visby', 'alyangula', 'paris', 'zunyi', 'kupang', 'ucluelet', 'prince rupert', 'vao', 'macomb', 'itarema', 'kirovskiy', 'porto-vecchio', 'hastings', 'puerto escondido', 'zhangye', 'coquimbo', 'khormuj', 'suslovo', 'vilhena', 'salinopolis', 'homer', 'bereda', 'olafsvik', 'port hawkesbury', 'lampa', 'aripuana', 'ginir', 'abha', 'phetchaburi', 'tanout', 'russell', 'atbasar', 'manta', 'khorinsk', 'dutlwe', 'aden', 'fomboni', 'biloela', 'hargeysa', 'san jacinto', 'ninh binh', 'cacapava do sul', 'barawe', 'ternate', 'amapa', 'tiznit', 'ngunguru', 'akyab', 'moree', 'las lomas', 'misratah', 'wahran', 'flinders', 'almenevo', 'itigi', 'bathsheba', 'dumka', 'kilindoni', 'monte azul paulista', 'la rioja', 'port hedland', 'ancud', 'sakakah', 'sept-iles', 'ostrovnoy', 'vichy', 'pio xii', 'flin flon', 'mount gambier', 'harwich', 'salym', 'port keats', 'tabas', 'nova olinda do norte', 'burnie', 'grindavik', 'colares', 'dongsheng', 'qui nhon', 'manyoni', 'douglas', 'nandu', 'aksarka', 'onverwacht', 'bandarbeyla', 'ningan', 'asheboro', 'evensk', 'santiago del estero', 'paamiut', 'itoman', 'comodoro rivadavia', 'husavik', 'nova serrana', 'aransas pass', 'labytnangi', 'bubaque', 'durres', 'imbituba', 'chunhuhub', 'black river', 'locri', 'gravdal', 'encinitas', 'kasongo-lunda', 'pochutla', 'svetlaya', 'mirnyy', 'goundam', 'meulaboh']\n"
     ]
    }
   ],
   "source": [
    "print(cities)"
   ]
  },
  {
   "cell_type": "code",
   "execution_count": 41,
   "metadata": {},
   "outputs": [
    {
     "ename": "KeyboardInterrupt",
     "evalue": "",
     "output_type": "error",
     "traceback": [
      "\u001b[1;31m---------------------------------------------------------------------------\u001b[0m",
      "\u001b[1;31mTypeError\u001b[0m                                 Traceback (most recent call last)",
      "\u001b[1;32m~\\Anaconda3\\lib\\site-packages\\urllib3\\connectionpool.py\u001b[0m in \u001b[0;36m_make_request\u001b[1;34m(self, conn, method, url, timeout, chunked, **httplib_request_kw)\u001b[0m\n\u001b[0;32m    376\u001b[0m             \u001b[1;32mtry\u001b[0m\u001b[1;33m:\u001b[0m  \u001b[1;31m# Python 2.7, use buffering of HTTP responses\u001b[0m\u001b[1;33m\u001b[0m\u001b[1;33m\u001b[0m\u001b[0m\n\u001b[1;32m--> 377\u001b[1;33m                 \u001b[0mhttplib_response\u001b[0m \u001b[1;33m=\u001b[0m \u001b[0mconn\u001b[0m\u001b[1;33m.\u001b[0m\u001b[0mgetresponse\u001b[0m\u001b[1;33m(\u001b[0m\u001b[0mbuffering\u001b[0m\u001b[1;33m=\u001b[0m\u001b[1;32mTrue\u001b[0m\u001b[1;33m)\u001b[0m\u001b[1;33m\u001b[0m\u001b[1;33m\u001b[0m\u001b[0m\n\u001b[0m\u001b[0;32m    378\u001b[0m             \u001b[1;32mexcept\u001b[0m \u001b[0mTypeError\u001b[0m\u001b[1;33m:\u001b[0m  \u001b[1;31m# Python 3\u001b[0m\u001b[1;33m\u001b[0m\u001b[1;33m\u001b[0m\u001b[0m\n",
      "\u001b[1;31mTypeError\u001b[0m: getresponse() got an unexpected keyword argument 'buffering'",
      "\nDuring handling of the above exception, another exception occurred:\n",
      "\u001b[1;31mKeyboardInterrupt\u001b[0m                         Traceback (most recent call last)",
      "\u001b[1;32m<ipython-input-41-b9d4f4197739>\u001b[0m in \u001b[0;36m<module>\u001b[1;34m\u001b[0m\n\u001b[0;32m     14\u001b[0m     \u001b[0mquery_url\u001b[0m \u001b[1;33m=\u001b[0m \u001b[1;34mf'{url}appid={weather_api_key}&q={city}&units=imperial'\u001b[0m\u001b[1;33m\u001b[0m\u001b[1;33m\u001b[0m\u001b[0m\n\u001b[0;32m     15\u001b[0m \u001b[1;33m\u001b[0m\u001b[0m\n\u001b[1;32m---> 16\u001b[1;33m     \u001b[0mweather_response\u001b[0m \u001b[1;33m=\u001b[0m\u001b[0mrequests\u001b[0m\u001b[1;33m.\u001b[0m\u001b[0mget\u001b[0m\u001b[1;33m(\u001b[0m\u001b[0mquery_url\u001b[0m\u001b[1;33m)\u001b[0m\u001b[1;33m\u001b[0m\u001b[1;33m\u001b[0m\u001b[0m\n\u001b[0m\u001b[0;32m     17\u001b[0m     \u001b[0mweather_json\u001b[0m \u001b[1;33m=\u001b[0m \u001b[0mweather_response\u001b[0m\u001b[1;33m.\u001b[0m\u001b[0mjson\u001b[0m\u001b[1;33m(\u001b[0m\u001b[1;33m)\u001b[0m\u001b[1;33m\u001b[0m\u001b[1;33m\u001b[0m\u001b[0m\n\u001b[0;32m     18\u001b[0m     \u001b[1;32mtry\u001b[0m\u001b[1;33m:\u001b[0m\u001b[1;33m\u001b[0m\u001b[1;33m\u001b[0m\u001b[0m\n",
      "\u001b[1;32m~\\Anaconda3\\lib\\site-packages\\requests\\api.py\u001b[0m in \u001b[0;36mget\u001b[1;34m(url, params, **kwargs)\u001b[0m\n\u001b[0;32m     73\u001b[0m \u001b[1;33m\u001b[0m\u001b[0m\n\u001b[0;32m     74\u001b[0m     \u001b[0mkwargs\u001b[0m\u001b[1;33m.\u001b[0m\u001b[0msetdefault\u001b[0m\u001b[1;33m(\u001b[0m\u001b[1;34m'allow_redirects'\u001b[0m\u001b[1;33m,\u001b[0m \u001b[1;32mTrue\u001b[0m\u001b[1;33m)\u001b[0m\u001b[1;33m\u001b[0m\u001b[1;33m\u001b[0m\u001b[0m\n\u001b[1;32m---> 75\u001b[1;33m     \u001b[1;32mreturn\u001b[0m \u001b[0mrequest\u001b[0m\u001b[1;33m(\u001b[0m\u001b[1;34m'get'\u001b[0m\u001b[1;33m,\u001b[0m \u001b[0murl\u001b[0m\u001b[1;33m,\u001b[0m \u001b[0mparams\u001b[0m\u001b[1;33m=\u001b[0m\u001b[0mparams\u001b[0m\u001b[1;33m,\u001b[0m \u001b[1;33m**\u001b[0m\u001b[0mkwargs\u001b[0m\u001b[1;33m)\u001b[0m\u001b[1;33m\u001b[0m\u001b[1;33m\u001b[0m\u001b[0m\n\u001b[0m\u001b[0;32m     76\u001b[0m \u001b[1;33m\u001b[0m\u001b[0m\n\u001b[0;32m     77\u001b[0m \u001b[1;33m\u001b[0m\u001b[0m\n",
      "\u001b[1;32m~\\Anaconda3\\lib\\site-packages\\requests\\api.py\u001b[0m in \u001b[0;36mrequest\u001b[1;34m(method, url, **kwargs)\u001b[0m\n\u001b[0;32m     58\u001b[0m     \u001b[1;31m# cases, and look like a memory leak in others.\u001b[0m\u001b[1;33m\u001b[0m\u001b[1;33m\u001b[0m\u001b[1;33m\u001b[0m\u001b[0m\n\u001b[0;32m     59\u001b[0m     \u001b[1;32mwith\u001b[0m \u001b[0msessions\u001b[0m\u001b[1;33m.\u001b[0m\u001b[0mSession\u001b[0m\u001b[1;33m(\u001b[0m\u001b[1;33m)\u001b[0m \u001b[1;32mas\u001b[0m \u001b[0msession\u001b[0m\u001b[1;33m:\u001b[0m\u001b[1;33m\u001b[0m\u001b[1;33m\u001b[0m\u001b[0m\n\u001b[1;32m---> 60\u001b[1;33m         \u001b[1;32mreturn\u001b[0m \u001b[0msession\u001b[0m\u001b[1;33m.\u001b[0m\u001b[0mrequest\u001b[0m\u001b[1;33m(\u001b[0m\u001b[0mmethod\u001b[0m\u001b[1;33m=\u001b[0m\u001b[0mmethod\u001b[0m\u001b[1;33m,\u001b[0m \u001b[0murl\u001b[0m\u001b[1;33m=\u001b[0m\u001b[0murl\u001b[0m\u001b[1;33m,\u001b[0m \u001b[1;33m**\u001b[0m\u001b[0mkwargs\u001b[0m\u001b[1;33m)\u001b[0m\u001b[1;33m\u001b[0m\u001b[1;33m\u001b[0m\u001b[0m\n\u001b[0m\u001b[0;32m     61\u001b[0m \u001b[1;33m\u001b[0m\u001b[0m\n\u001b[0;32m     62\u001b[0m \u001b[1;33m\u001b[0m\u001b[0m\n",
      "\u001b[1;32m~\\Anaconda3\\lib\\site-packages\\requests\\sessions.py\u001b[0m in \u001b[0;36mrequest\u001b[1;34m(self, method, url, params, data, headers, cookies, files, auth, timeout, allow_redirects, proxies, hooks, stream, verify, cert, json)\u001b[0m\n\u001b[0;32m    531\u001b[0m         }\n\u001b[0;32m    532\u001b[0m         \u001b[0msend_kwargs\u001b[0m\u001b[1;33m.\u001b[0m\u001b[0mupdate\u001b[0m\u001b[1;33m(\u001b[0m\u001b[0msettings\u001b[0m\u001b[1;33m)\u001b[0m\u001b[1;33m\u001b[0m\u001b[1;33m\u001b[0m\u001b[0m\n\u001b[1;32m--> 533\u001b[1;33m         \u001b[0mresp\u001b[0m \u001b[1;33m=\u001b[0m \u001b[0mself\u001b[0m\u001b[1;33m.\u001b[0m\u001b[0msend\u001b[0m\u001b[1;33m(\u001b[0m\u001b[0mprep\u001b[0m\u001b[1;33m,\u001b[0m \u001b[1;33m**\u001b[0m\u001b[0msend_kwargs\u001b[0m\u001b[1;33m)\u001b[0m\u001b[1;33m\u001b[0m\u001b[1;33m\u001b[0m\u001b[0m\n\u001b[0m\u001b[0;32m    534\u001b[0m \u001b[1;33m\u001b[0m\u001b[0m\n\u001b[0;32m    535\u001b[0m         \u001b[1;32mreturn\u001b[0m \u001b[0mresp\u001b[0m\u001b[1;33m\u001b[0m\u001b[1;33m\u001b[0m\u001b[0m\n",
      "\u001b[1;32m~\\Anaconda3\\lib\\site-packages\\requests\\sessions.py\u001b[0m in \u001b[0;36msend\u001b[1;34m(self, request, **kwargs)\u001b[0m\n\u001b[0;32m    644\u001b[0m \u001b[1;33m\u001b[0m\u001b[0m\n\u001b[0;32m    645\u001b[0m         \u001b[1;31m# Send the request\u001b[0m\u001b[1;33m\u001b[0m\u001b[1;33m\u001b[0m\u001b[1;33m\u001b[0m\u001b[0m\n\u001b[1;32m--> 646\u001b[1;33m         \u001b[0mr\u001b[0m \u001b[1;33m=\u001b[0m \u001b[0madapter\u001b[0m\u001b[1;33m.\u001b[0m\u001b[0msend\u001b[0m\u001b[1;33m(\u001b[0m\u001b[0mrequest\u001b[0m\u001b[1;33m,\u001b[0m \u001b[1;33m**\u001b[0m\u001b[0mkwargs\u001b[0m\u001b[1;33m)\u001b[0m\u001b[1;33m\u001b[0m\u001b[1;33m\u001b[0m\u001b[0m\n\u001b[0m\u001b[0;32m    647\u001b[0m \u001b[1;33m\u001b[0m\u001b[0m\n\u001b[0;32m    648\u001b[0m         \u001b[1;31m# Total elapsed time of the request (approximately)\u001b[0m\u001b[1;33m\u001b[0m\u001b[1;33m\u001b[0m\u001b[1;33m\u001b[0m\u001b[0m\n",
      "\u001b[1;32m~\\Anaconda3\\lib\\site-packages\\requests\\adapters.py\u001b[0m in \u001b[0;36msend\u001b[1;34m(self, request, stream, timeout, verify, cert, proxies)\u001b[0m\n\u001b[0;32m    447\u001b[0m                     \u001b[0mdecode_content\u001b[0m\u001b[1;33m=\u001b[0m\u001b[1;32mFalse\u001b[0m\u001b[1;33m,\u001b[0m\u001b[1;33m\u001b[0m\u001b[1;33m\u001b[0m\u001b[0m\n\u001b[0;32m    448\u001b[0m                     \u001b[0mretries\u001b[0m\u001b[1;33m=\u001b[0m\u001b[0mself\u001b[0m\u001b[1;33m.\u001b[0m\u001b[0mmax_retries\u001b[0m\u001b[1;33m,\u001b[0m\u001b[1;33m\u001b[0m\u001b[1;33m\u001b[0m\u001b[0m\n\u001b[1;32m--> 449\u001b[1;33m                     \u001b[0mtimeout\u001b[0m\u001b[1;33m=\u001b[0m\u001b[0mtimeout\u001b[0m\u001b[1;33m\u001b[0m\u001b[1;33m\u001b[0m\u001b[0m\n\u001b[0m\u001b[0;32m    450\u001b[0m                 )\n\u001b[0;32m    451\u001b[0m \u001b[1;33m\u001b[0m\u001b[0m\n",
      "\u001b[1;32m~\\Anaconda3\\lib\\site-packages\\urllib3\\connectionpool.py\u001b[0m in \u001b[0;36murlopen\u001b[1;34m(self, method, url, body, headers, retries, redirect, assert_same_host, timeout, pool_timeout, release_conn, chunked, body_pos, **response_kw)\u001b[0m\n\u001b[0;32m    598\u001b[0m                                                   \u001b[0mtimeout\u001b[0m\u001b[1;33m=\u001b[0m\u001b[0mtimeout_obj\u001b[0m\u001b[1;33m,\u001b[0m\u001b[1;33m\u001b[0m\u001b[1;33m\u001b[0m\u001b[0m\n\u001b[0;32m    599\u001b[0m                                                   \u001b[0mbody\u001b[0m\u001b[1;33m=\u001b[0m\u001b[0mbody\u001b[0m\u001b[1;33m,\u001b[0m \u001b[0mheaders\u001b[0m\u001b[1;33m=\u001b[0m\u001b[0mheaders\u001b[0m\u001b[1;33m,\u001b[0m\u001b[1;33m\u001b[0m\u001b[1;33m\u001b[0m\u001b[0m\n\u001b[1;32m--> 600\u001b[1;33m                                                   chunked=chunked)\n\u001b[0m\u001b[0;32m    601\u001b[0m \u001b[1;33m\u001b[0m\u001b[0m\n\u001b[0;32m    602\u001b[0m             \u001b[1;31m# If we're going to release the connection in ``finally:``, then\u001b[0m\u001b[1;33m\u001b[0m\u001b[1;33m\u001b[0m\u001b[1;33m\u001b[0m\u001b[0m\n",
      "\u001b[1;32m~\\Anaconda3\\lib\\site-packages\\urllib3\\connectionpool.py\u001b[0m in \u001b[0;36m_make_request\u001b[1;34m(self, conn, method, url, timeout, chunked, **httplib_request_kw)\u001b[0m\n\u001b[0;32m    378\u001b[0m             \u001b[1;32mexcept\u001b[0m \u001b[0mTypeError\u001b[0m\u001b[1;33m:\u001b[0m  \u001b[1;31m# Python 3\u001b[0m\u001b[1;33m\u001b[0m\u001b[1;33m\u001b[0m\u001b[0m\n\u001b[0;32m    379\u001b[0m                 \u001b[1;32mtry\u001b[0m\u001b[1;33m:\u001b[0m\u001b[1;33m\u001b[0m\u001b[1;33m\u001b[0m\u001b[0m\n\u001b[1;32m--> 380\u001b[1;33m                     \u001b[0mhttplib_response\u001b[0m \u001b[1;33m=\u001b[0m \u001b[0mconn\u001b[0m\u001b[1;33m.\u001b[0m\u001b[0mgetresponse\u001b[0m\u001b[1;33m(\u001b[0m\u001b[1;33m)\u001b[0m\u001b[1;33m\u001b[0m\u001b[1;33m\u001b[0m\u001b[0m\n\u001b[0m\u001b[0;32m    381\u001b[0m                 \u001b[1;32mexcept\u001b[0m \u001b[0mException\u001b[0m \u001b[1;32mas\u001b[0m \u001b[0me\u001b[0m\u001b[1;33m:\u001b[0m\u001b[1;33m\u001b[0m\u001b[1;33m\u001b[0m\u001b[0m\n\u001b[0;32m    382\u001b[0m                     \u001b[1;31m# Remove the TypeError from the exception chain in Python 3;\u001b[0m\u001b[1;33m\u001b[0m\u001b[1;33m\u001b[0m\u001b[1;33m\u001b[0m\u001b[0m\n",
      "\u001b[1;32m~\\Anaconda3\\lib\\http\\client.py\u001b[0m in \u001b[0;36mgetresponse\u001b[1;34m(self)\u001b[0m\n\u001b[0;32m   1334\u001b[0m         \u001b[1;32mtry\u001b[0m\u001b[1;33m:\u001b[0m\u001b[1;33m\u001b[0m\u001b[1;33m\u001b[0m\u001b[0m\n\u001b[0;32m   1335\u001b[0m             \u001b[1;32mtry\u001b[0m\u001b[1;33m:\u001b[0m\u001b[1;33m\u001b[0m\u001b[1;33m\u001b[0m\u001b[0m\n\u001b[1;32m-> 1336\u001b[1;33m                 \u001b[0mresponse\u001b[0m\u001b[1;33m.\u001b[0m\u001b[0mbegin\u001b[0m\u001b[1;33m(\u001b[0m\u001b[1;33m)\u001b[0m\u001b[1;33m\u001b[0m\u001b[1;33m\u001b[0m\u001b[0m\n\u001b[0m\u001b[0;32m   1337\u001b[0m             \u001b[1;32mexcept\u001b[0m \u001b[0mConnectionError\u001b[0m\u001b[1;33m:\u001b[0m\u001b[1;33m\u001b[0m\u001b[1;33m\u001b[0m\u001b[0m\n\u001b[0;32m   1338\u001b[0m                 \u001b[0mself\u001b[0m\u001b[1;33m.\u001b[0m\u001b[0mclose\u001b[0m\u001b[1;33m(\u001b[0m\u001b[1;33m)\u001b[0m\u001b[1;33m\u001b[0m\u001b[1;33m\u001b[0m\u001b[0m\n",
      "\u001b[1;32m~\\Anaconda3\\lib\\http\\client.py\u001b[0m in \u001b[0;36mbegin\u001b[1;34m(self)\u001b[0m\n\u001b[0;32m    304\u001b[0m         \u001b[1;31m# read until we get a non-100 response\u001b[0m\u001b[1;33m\u001b[0m\u001b[1;33m\u001b[0m\u001b[1;33m\u001b[0m\u001b[0m\n\u001b[0;32m    305\u001b[0m         \u001b[1;32mwhile\u001b[0m \u001b[1;32mTrue\u001b[0m\u001b[1;33m:\u001b[0m\u001b[1;33m\u001b[0m\u001b[1;33m\u001b[0m\u001b[0m\n\u001b[1;32m--> 306\u001b[1;33m             \u001b[0mversion\u001b[0m\u001b[1;33m,\u001b[0m \u001b[0mstatus\u001b[0m\u001b[1;33m,\u001b[0m \u001b[0mreason\u001b[0m \u001b[1;33m=\u001b[0m \u001b[0mself\u001b[0m\u001b[1;33m.\u001b[0m\u001b[0m_read_status\u001b[0m\u001b[1;33m(\u001b[0m\u001b[1;33m)\u001b[0m\u001b[1;33m\u001b[0m\u001b[1;33m\u001b[0m\u001b[0m\n\u001b[0m\u001b[0;32m    307\u001b[0m             \u001b[1;32mif\u001b[0m \u001b[0mstatus\u001b[0m \u001b[1;33m!=\u001b[0m \u001b[0mCONTINUE\u001b[0m\u001b[1;33m:\u001b[0m\u001b[1;33m\u001b[0m\u001b[1;33m\u001b[0m\u001b[0m\n\u001b[0;32m    308\u001b[0m                 \u001b[1;32mbreak\u001b[0m\u001b[1;33m\u001b[0m\u001b[1;33m\u001b[0m\u001b[0m\n",
      "\u001b[1;32m~\\Anaconda3\\lib\\http\\client.py\u001b[0m in \u001b[0;36m_read_status\u001b[1;34m(self)\u001b[0m\n\u001b[0;32m    265\u001b[0m \u001b[1;33m\u001b[0m\u001b[0m\n\u001b[0;32m    266\u001b[0m     \u001b[1;32mdef\u001b[0m \u001b[0m_read_status\u001b[0m\u001b[1;33m(\u001b[0m\u001b[0mself\u001b[0m\u001b[1;33m)\u001b[0m\u001b[1;33m:\u001b[0m\u001b[1;33m\u001b[0m\u001b[1;33m\u001b[0m\u001b[0m\n\u001b[1;32m--> 267\u001b[1;33m         \u001b[0mline\u001b[0m \u001b[1;33m=\u001b[0m \u001b[0mstr\u001b[0m\u001b[1;33m(\u001b[0m\u001b[0mself\u001b[0m\u001b[1;33m.\u001b[0m\u001b[0mfp\u001b[0m\u001b[1;33m.\u001b[0m\u001b[0mreadline\u001b[0m\u001b[1;33m(\u001b[0m\u001b[0m_MAXLINE\u001b[0m \u001b[1;33m+\u001b[0m \u001b[1;36m1\u001b[0m\u001b[1;33m)\u001b[0m\u001b[1;33m,\u001b[0m \u001b[1;34m\"iso-8859-1\"\u001b[0m\u001b[1;33m)\u001b[0m\u001b[1;33m\u001b[0m\u001b[1;33m\u001b[0m\u001b[0m\n\u001b[0m\u001b[0;32m    268\u001b[0m         \u001b[1;32mif\u001b[0m \u001b[0mlen\u001b[0m\u001b[1;33m(\u001b[0m\u001b[0mline\u001b[0m\u001b[1;33m)\u001b[0m \u001b[1;33m>\u001b[0m \u001b[0m_MAXLINE\u001b[0m\u001b[1;33m:\u001b[0m\u001b[1;33m\u001b[0m\u001b[1;33m\u001b[0m\u001b[0m\n\u001b[0;32m    269\u001b[0m             \u001b[1;32mraise\u001b[0m \u001b[0mLineTooLong\u001b[0m\u001b[1;33m(\u001b[0m\u001b[1;34m\"status line\"\u001b[0m\u001b[1;33m)\u001b[0m\u001b[1;33m\u001b[0m\u001b[1;33m\u001b[0m\u001b[0m\n",
      "\u001b[1;32m~\\Anaconda3\\lib\\socket.py\u001b[0m in \u001b[0;36mreadinto\u001b[1;34m(self, b)\u001b[0m\n\u001b[0;32m    587\u001b[0m         \u001b[1;32mwhile\u001b[0m \u001b[1;32mTrue\u001b[0m\u001b[1;33m:\u001b[0m\u001b[1;33m\u001b[0m\u001b[1;33m\u001b[0m\u001b[0m\n\u001b[0;32m    588\u001b[0m             \u001b[1;32mtry\u001b[0m\u001b[1;33m:\u001b[0m\u001b[1;33m\u001b[0m\u001b[1;33m\u001b[0m\u001b[0m\n\u001b[1;32m--> 589\u001b[1;33m                 \u001b[1;32mreturn\u001b[0m \u001b[0mself\u001b[0m\u001b[1;33m.\u001b[0m\u001b[0m_sock\u001b[0m\u001b[1;33m.\u001b[0m\u001b[0mrecv_into\u001b[0m\u001b[1;33m(\u001b[0m\u001b[0mb\u001b[0m\u001b[1;33m)\u001b[0m\u001b[1;33m\u001b[0m\u001b[1;33m\u001b[0m\u001b[0m\n\u001b[0m\u001b[0;32m    590\u001b[0m             \u001b[1;32mexcept\u001b[0m \u001b[0mtimeout\u001b[0m\u001b[1;33m:\u001b[0m\u001b[1;33m\u001b[0m\u001b[1;33m\u001b[0m\u001b[0m\n\u001b[0;32m    591\u001b[0m                 \u001b[0mself\u001b[0m\u001b[1;33m.\u001b[0m\u001b[0m_timeout_occurred\u001b[0m \u001b[1;33m=\u001b[0m \u001b[1;32mTrue\u001b[0m\u001b[1;33m\u001b[0m\u001b[1;33m\u001b[0m\u001b[0m\n",
      "\u001b[1;31mKeyboardInterrupt\u001b[0m: "
     ]
    }
   ],
   "source": [
    "#get the temperatures for all cities\n",
    "\n",
    "\n",
    "# Save config information\n",
    "url = \"http://api.openweathermap.org/data/2.5/weather?\"    \n",
    "    \n",
    "    \n",
    "\n",
    "city_data = []\n",
    "\n",
    "# For each city, we access its information through its API\n",
    "for city in cities:\n",
    "    # Build query URL\n",
    "    query_url = f'{url}appid={weather_api_key}&q={city}&units=imperial'\n",
    "    \n",
    "    weather_response =requests.get(query_url)\n",
    "    weather_json = weather_response.json()\n",
    "    try:\n",
    "        city_data.append([weather_json['name'],weather_json['coord']['lat'], weather_json['coord']['lon'], weather_json['main']['temp'], weather_json['main']['humidity'],\n",
    "                             weather_json['clouds']['all'], weather_json['wind']['speed']])\n",
    "    except:\n",
    "        city_data.append([0])\n",
    "                         \n",
    "city_df = pd.DataFrame(city_data)\n",
    "city_df.columns=['City', \"lat\", \"long\", 'city_temps', 'perc_humidity', 'perc_cloudiness', \"wind_speed\"]\n",
    "city_df.to_csv(\"cities.csv\", index=False)\n",
    "    "
   ]
  },
  {
   "cell_type": "code",
   "execution_count": null,
   "metadata": {},
   "outputs": [],
   "source": [
    "\n"
   ]
  },
  {
   "cell_type": "code",
   "execution_count": null,
   "metadata": {},
   "outputs": [],
   "source": []
  },
  {
   "cell_type": "code",
   "execution_count": null,
   "metadata": {},
   "outputs": [],
   "source": []
  },
  {
   "cell_type": "code",
   "execution_count": null,
   "metadata": {},
   "outputs": [],
   "source": []
  },
  {
   "cell_type": "code",
   "execution_count": null,
   "metadata": {},
   "outputs": [],
   "source": []
  },
  {
   "cell_type": "code",
   "execution_count": null,
   "metadata": {},
   "outputs": [],
   "source": []
  },
  {
   "cell_type": "code",
   "execution_count": null,
   "metadata": {},
   "outputs": [],
   "source": [
    "\n",
    "    \n",
    "    "
   ]
  },
  {
   "cell_type": "code",
   "execution_count": null,
   "metadata": {},
   "outputs": [],
   "source": []
  },
  {
   "cell_type": "code",
   "execution_count": null,
   "metadata": {},
   "outputs": [],
   "source": []
  },
  {
   "cell_type": "code",
   "execution_count": null,
   "metadata": {},
   "outputs": [],
   "source": [
    "# build a scatter plot of Temperature(F) vs Latitude\n",
    "x_values = city_df['lat']\n",
    "y_vaules = city_df['city_temps']\n",
    "plt.scatter(x_values, y_vaules, marker=\"o\", facecolors=\"red\", edgecolors=\"black\", alpha=0.75)\n",
    "plt.xlabel(\"Latitude\")\n",
    "plt.ylabel(\"Temperature(F)\")\n",
    "plt.title(\"Temperature(F) vs Latitude\")\n",
    "plt.savefig('TempvLat.png')\n",
    "plt.show()\n"
   ]
  },
  {
   "cell_type": "code",
   "execution_count": null,
   "metadata": {},
   "outputs": [],
   "source": [
    "# The temperature vs latitude plot shows that in the northern hemispheres,as the distance from the equator increases, \n",
    "#the cities have colder temperatures.\n",
    "#In the southern hemisphere, as distance from the equator increases, the cities generally have warmer temperatures."
   ]
  },
  {
   "cell_type": "code",
   "execution_count": null,
   "metadata": {},
   "outputs": [],
   "source": [
    "# build a scatter plot of % humidity vs Latitude\n",
    "x_values = city_df['lat']\n",
    "y_vaules = city_df['perc_humidity']\n",
    "plt.scatter(x_values, y_vaules, marker=\"o\", facecolors=\"red\", edgecolors=\"black\", alpha=0.75)\n",
    "plt.xlabel(\"Latitude\")\n",
    "plt.ylabel(\"% Humidity\")\n",
    "plt.title(\"Percent Humdity vs Latitude\")\n",
    "plt.savefig('HumidityvLat.png')\n",
    "plt.show()\n"
   ]
  },
  {
   "cell_type": "code",
   "execution_count": null,
   "metadata": {},
   "outputs": [],
   "source": [
    "#In the northern hemisphere, the % humidity generally increases as latitude increases.\n",
    "#In the southern hemisphere, the % humidity generally increases as distance from the equator increases."
   ]
  },
  {
   "cell_type": "code",
   "execution_count": null,
   "metadata": {},
   "outputs": [],
   "source": [
    "# build a scatter plot of % cloudiness vs Latitude\n",
    "x_values = city_df['lat']\n",
    "y_vaules = city_df['perc_cloudiness']\n",
    "plt.scatter(x_values, y_vaules, marker=\"o\", facecolors=\"red\", edgecolors=\"black\", alpha=0.75)\n",
    "plt.xlabel(\"Latitude\")\n",
    "plt.ylabel(\"% Cloudiness\")\n",
    "plt.title(\"Percent Cloudiness vs Latitude\")\n",
    "plt.savefig('CloudsvLat.png')\n",
    "plt.show()\n"
   ]
  },
  {
   "cell_type": "code",
   "execution_count": null,
   "metadata": {},
   "outputs": [],
   "source": [
    "#There is no clear pattern between the latitude of a city and the percent cloudiness."
   ]
  },
  {
   "cell_type": "code",
   "execution_count": null,
   "metadata": {},
   "outputs": [],
   "source": [
    "# build a scatter plot of Wind Speed vs Latitude\n",
    "x_values = city_df['lat']\n",
    "y_vaules = city_df['wind_speed']\n",
    "plt.scatter(x_values, y_vaules, marker=\"o\", facecolors=\"red\", edgecolors=\"black\", alpha=0.75)\n",
    "plt.xlabel(\"Latitude\")\n",
    "plt.ylabel(\"Wind Speed(mph)\")\n",
    "plt.title(\"Percent Wind Speed(mph) vs Latitude\")\n",
    "plt.savefig('WindvLat.png')\n",
    "plt.show()\n"
   ]
  },
  {
   "cell_type": "code",
   "execution_count": null,
   "metadata": {},
   "outputs": [],
   "source": [
    "#Most cities experience wind speeds below 20 mph regardless of latitude."
   ]
  },
  {
   "cell_type": "code",
   "execution_count": null,
   "metadata": {},
   "outputs": [],
   "source": []
  },
  {
   "cell_type": "code",
   "execution_count": null,
   "metadata": {},
   "outputs": [],
   "source": [
    "\n",
    "\n",
    "\n"
   ]
  },
  {
   "cell_type": "code",
   "execution_count": null,
   "metadata": {},
   "outputs": [],
   "source": [
    "\n"
   ]
  },
  {
   "cell_type": "code",
   "execution_count": null,
   "metadata": {},
   "outputs": [],
   "source": []
  },
  {
   "cell_type": "code",
   "execution_count": null,
   "metadata": {},
   "outputs": [],
   "source": []
  },
  {
   "cell_type": "code",
   "execution_count": null,
   "metadata": {},
   "outputs": [],
   "source": []
  },
  {
   "cell_type": "code",
   "execution_count": null,
   "metadata": {},
   "outputs": [],
   "source": []
  },
  {
   "cell_type": "code",
   "execution_count": null,
   "metadata": {},
   "outputs": [],
   "source": []
  },
  {
   "cell_type": "code",
   "execution_count": null,
   "metadata": {},
   "outputs": [],
   "source": [
    "#create a column for northern and southern hemisphere\n",
    "bins = [-101, 0, 100]\n",
    "labels = ['Southern Hemisphere', 'Northern Hemisphere']\n",
    "\n",
    "#categorize the latitudes by bins\n",
    "pd.cut(city_df['lat'], bins, labels=labels).head()\n",
    "\n",
    "# Place the data series into a new column inside of the DataFrame\n",
    "city_df[\"Hemisphere\"] = pd.cut(city_df[\"lat\"], bins, labels=labels)\n",
    "\n",
    "\n",
    "#create a table with southern or northern hemisphere\n",
    "hemispheres = city_df.groupby('Hemisphere').head()\n",
    "hemispheres.reset_index(level =0, inplace = True)\n",
    "\n",
    "# isolate northern hemisphere data\n",
    "northern =hemispheres[hemispheres['Hemisphere'] == \"Northern Hemisphere\"]\n",
    "southern =hemispheres[hemispheres['Hemisphere']==\"Southern Hemisphere\"]\n",
    "\n"
   ]
  },
  {
   "cell_type": "code",
   "execution_count": null,
   "metadata": {},
   "outputs": [],
   "source": []
  },
  {
   "cell_type": "code",
   "execution_count": null,
   "metadata": {},
   "outputs": [],
   "source": [
    "# Northern hemisphere Temperature (F) vs. Latitude\n",
    "\n",
    "# Add the linear regression equation and line to plot\n",
    "x_values = northern['lat']\n",
    "y_values = northern['city_temps']\n",
    "(slope, intercept, rvalue, pvalue, stderr) = linregress(x_values, y_values)\n",
    "regress_values = x_values * slope + intercept\n",
    "line_eq = \"y = \" + str(round(slope,2)) + \"x + \" + str(round(intercept,2))\n",
    "plt.scatter(x_values, y_values, marker=\"o\", facecolors=\"red\", edgecolors=\"black\", alpha=0.75)\n",
    "plt.xlim(0,100)\n",
    "plt.plot(x_values,regress_values,\"r-\")\n",
    "plt.annotate(line_eq,(6,10),fontsize=15,color=\"blue\")\n",
    "print(f\"The r-squared is: {rvalue}\")\n",
    "plt.title(\"Temperature(F) vs Latitude In The Northern Hemisphere\")\n",
    "plt.xlabel(\"Latitude\")\n",
    "plt.ylabel(\"Temperature\")   \n",
    "plt.show()\n"
   ]
  },
  {
   "cell_type": "code",
   "execution_count": null,
   "metadata": {},
   "outputs": [],
   "source": [
    "# With a r-squared value of almost -1, there is a negative correlation between temperature and \n",
    "#latitude in the northern hemisphere. This means the temperature of cities increase when they are located closer to\n",
    "#the equator, and are colder when they are farther from the equator."
   ]
  },
  {
   "cell_type": "code",
   "execution_count": null,
   "metadata": {},
   "outputs": [],
   "source": [
    "#Southern Hemisphere - Temperature (F) vs. Latitude\n",
    "# Add the linear regression equation and line to plot\n",
    "x_values = southern['lat']\n",
    "y_values = southern['city_temps']\n",
    "(slope, intercept, rvalue, pvalue, stderr) = linregress(x_values, y_values)\n",
    "regress_values = x_values * slope + intercept\n",
    "line_eq = \"y = \" + str(round(slope,2)) + \"x + \" + str(round(intercept,2))\n",
    "plt.scatter(x_values, y_values, marker=\"o\", facecolors=\"red\", edgecolors=\"black\", alpha=0.75)\n",
    "plt.xlim(-100,0)\n",
    "plt.plot(x_values,regress_values,\"r-\")\n",
    "plt.annotate(line_eq,(6,10),fontsize=15,color=\"blue\")\n",
    "print(f\"The r-squared is: {rvalue}\")\n",
    "plt.title(\"Temperature(F) vs Latitude In The Southern Hemisphere\")\n",
    "plt.xlabel(\"Latitude\")\n",
    "plt.ylabel(\"Temperature\")   \n",
    "plt.show()\n"
   ]
  },
  {
   "cell_type": "code",
   "execution_count": null,
   "metadata": {},
   "outputs": [],
   "source": [
    "# The r-squared value suggests that when cities are closer to the equator, their temperatures are warmer. When they are\n",
    "# farther from the equator, they are colder."
   ]
  },
  {
   "cell_type": "code",
   "execution_count": null,
   "metadata": {},
   "outputs": [],
   "source": [
    "# Northern hemisphere Humidity (%) vs. Latitude\n",
    "\n",
    "# build a scatter plot of % humidity vs Latitude\n",
    "x_values = northern['lat']\n",
    "y_values = northern['perc_humidity']\n",
    "(slope, intercept, rvalue, pvalue, stderr) = linregress(x_values, y_values)\n",
    "regress_values = x_values * slope + intercept\n",
    "line_eq = \"y = \" + str(round(slope,2)) + \"x + \" + str(round(intercept,2))\n",
    "plt.scatter(x_values, y_values, marker=\"o\", facecolors=\"red\", edgecolors=\"black\", alpha=0.75)\n",
    "plt.xlim(0, 100)\n",
    "plt.plot(x_values,regress_values,\"r-\")\n",
    "plt.annotate(line_eq,(6,10),fontsize=15,color=\"blue\")\n",
    "print(f\"The r-squared is: {rvalue}\")\n",
    "plt.title(\"% Humidity) vs Latitude In The Northern Hemisphere\")\n",
    "plt.xlabel(\"Latitude\")\n",
    "plt.ylabel(\"% humidity\")   \n",
    "plt.show()\n"
   ]
  },
  {
   "cell_type": "code",
   "execution_count": null,
   "metadata": {},
   "outputs": [],
   "source": [
    "# The r-squared value is close to 1, which suggests that humidity increases when the studied city is closer to the equator.\n",
    "# Cities farther from the equator have lower humidity."
   ]
  },
  {
   "cell_type": "code",
   "execution_count": null,
   "metadata": {},
   "outputs": [],
   "source": [
    "#Southern Hemisphere - Humidity (%) vs. Latitude\n",
    "\n",
    "# build a scatter plot of % humidity vs Latitude\n",
    "x_values = southern['lat']\n",
    "y_values = southern['perc_humidity']\n",
    "(slope, intercept, rvalue, pvalue, stderr) = linregress(x_values, y_values)\n",
    "regress_values = x_values * slope + intercept\n",
    "line_eq = \"y = \" + str(round(slope,2)) + \"x + \" + str(round(intercept,2))\n",
    "plt.scatter(x_values, y_values, marker=\"o\", facecolors=\"red\", edgecolors=\"black\", alpha=0.75)\n",
    "plt.xlim(-100,0)\n",
    "plt.plot(x_values,regress_values,\"r-\")\n",
    "plt.annotate(line_eq,(6,10),fontsize=15,color=\"blue\")\n",
    "print(f\"The r-squared is: {rvalue}\")\n",
    "plt.title(\"Humidity (%) vs. Latitude In The Southern Hemisphere\")\n",
    "plt.xlabel(\"Latitude\")\n",
    "plt.ylabel(\"% humidity\")   \n",
    "plt.show()\n",
    "\n"
   ]
  },
  {
   "cell_type": "code",
   "execution_count": null,
   "metadata": {},
   "outputs": [],
   "source": [
    "# The r-squared value is only slightly above 0, suggesting there is a weak correlation between proximity to the equator and\n",
    "# higher humidity. The regression line doesn't fit any data points directly, meaning additional analyzation is needed to\n",
    "# draw more certain conclusions. "
   ]
  },
  {
   "cell_type": "code",
   "execution_count": null,
   "metadata": {},
   "outputs": [],
   "source": [
    " #Northern Hemisphere - Cloudiness (%) vs. Latitude\n",
    "    \n",
    "    # build a scatter plot of % cloudiness vs Latitude\n",
    "x_values = northern['lat']\n",
    "y_values = northern['perc_cloudiness']\n",
    "(slope, intercept, rvalue, pvalue, stderr) = linregress(x_values, y_values)\n",
    "regress_values = x_values * slope + intercept\n",
    "line_eq = \"y = \" + str(round(slope,2)) + \"x + \" + str(round(intercept,2))\n",
    "plt.scatter(x_values, y_values, marker=\"o\", facecolors=\"red\", edgecolors=\"black\", alpha=0.75)\n",
    "plt.xlim(0, 100)\n",
    "plt.plot(x_values,regress_values,\"r-\")\n",
    "plt.annotate(line_eq,(6,10),fontsize=15,color=\"blue\")\n",
    "print(f\"The r-squared is: {rvalue}\")\n",
    "plt.title(\"Cloudiness (%) vs. Latitude In The Northern Hemisphere\")\n",
    "plt.xlabel(\"Latitude\")\n",
    "plt.ylabel(\"% cloudiness\")   \n",
    "plt.show()\n"
   ]
  },
  {
   "cell_type": "code",
   "execution_count": null,
   "metadata": {},
   "outputs": [],
   "source": [
    "# The r-squared value is only slightly above 0, suggesting there is a weak correlation between proximity to the equator and\n",
    "# percent cloudiness. The regression line isn't over any data points, meaning additional analyzation is needed to\n",
    "# draw more certain conclusions. "
   ]
  },
  {
   "cell_type": "code",
   "execution_count": null,
   "metadata": {},
   "outputs": [],
   "source": [
    "# Southern Hemisphere - Cloudiness (%) vs. Latitude\n",
    "\n",
    "# build a scatter plot of % cloudiness vs Latitude\n",
    "x_values = southern['lat']\n",
    "y_values = southern['perc_cloudiness']\n",
    "(slope, intercept, rvalue, pvalue, stderr) = linregress(x_values, y_values)\n",
    "regress_values = x_values * slope + intercept\n",
    "line_eq = \"y = \" + str(round(slope,2)) + \"x + \" + str(round(intercept,2))\n",
    "plt.scatter(x_values, y_values, marker=\"o\", facecolors=\"red\", edgecolors=\"black\", alpha=0.75)\n",
    "plt.xlim(-100,0)\n",
    "plt.plot(x_values,regress_values,\"r-\")\n",
    "print(f\"The r-squared is: {rvalue}\")\n",
    "plt.annotate(line_eq,(6,10),fontsize=15,color=\"blue\")\n",
    "plt.title(\"Cloudiness (%) vs. Latitude In The Southern Hemisphere\")\n",
    "plt.xlabel(\"Latitude\")\n",
    "plt.ylabel(\"% cloudiness\")   \n",
    "plt.show()\n"
   ]
  },
  {
   "cell_type": "code",
   "execution_count": null,
   "metadata": {},
   "outputs": [],
   "source": [
    "# The r-squared value is only slightly above 0, suggesting there is no correlation between proximity to the equator and\n",
    "# percent cloudiness. The regression line doesn't fit any data points directly, meaning additional analyzation is needed to\n",
    "# draw more certain conclusions. "
   ]
  },
  {
   "cell_type": "code",
   "execution_count": null,
   "metadata": {},
   "outputs": [],
   "source": [
    "#Northern Hemisphere - Wind Speed (mph) vs. Latitude\n",
    "x_values = northern['lat']\n",
    "y_values = northern['wind_speed']\n",
    "(slope, intercept, rvalue, pvalue, stderr) = linregress(x_values, y_values)\n",
    "regress_values = x_values * slope + intercept\n",
    "line_eq = \"y = \" + str(round(slope,2)) + \"x + \" + str(round(intercept,2))\n",
    "plt.scatter(x_values, y_values, marker=\"o\", facecolors=\"red\", edgecolors=\"black\", alpha=0.75)\n",
    "plt.xlim(0, 100)\n",
    "plt.plot(x_values,regress_values,\"r-\")\n",
    "plt.annotate(line_eq,(6,10),fontsize=15,color=\"blue\")\n",
    "print(f\"The r-squared is: {rvalue}\")\n",
    "plt.title(\"Wind Speed (mph) vs. Latitude In The Northern Hemisphere\")\n",
    "plt.xlabel(\"Latitude\")\n",
    "plt.ylabel(\"Wind Speed (mph)\")   \n",
    "plt.show()\n"
   ]
  },
  {
   "cell_type": "code",
   "execution_count": null,
   "metadata": {},
   "outputs": [],
   "source": [
    "# In the northern hemisphere, wind speeds in a specific city decrease as distance from the equator increases. \n",
    "# The r-squared value is -0.91, supporting a strong correlation."
   ]
  },
  {
   "cell_type": "code",
   "execution_count": null,
   "metadata": {},
   "outputs": [],
   "source": [
    "#Southern Hemisphere - Wind Speed (mph) vs. Latitude\n",
    "x_values = southern['lat']\n",
    "y_values = southern['wind_speed']\n",
    "(slope, intercept, rvalue, pvalue, stderr) = linregress(x_values, y_values)\n",
    "regress_values = x_values * slope + intercept\n",
    "line_eq = \"y = \" + str(round(slope,2)) + \"x + \" + str(round(intercept,2))\n",
    "plt.scatter(x_values, y_values, marker=\"o\", facecolors=\"red\", edgecolors=\"black\", alpha=0.75)\n",
    "plt.xlim(-100,0)\n",
    "plt.plot(x_values,regress_values,\"r-\")\n",
    "print(f\"The r-squared is: {rvalue}\")\n",
    "plt.annotate(line_eq,(6,10),fontsize=15,color=\"blue\")\n",
    "plt.title(\"Wind Speed (mph) vs. Latitude In The Southern Hemisphere\")\n",
    "plt.xlabel(\"Latitude\")\n",
    "plt.ylabel(\"Wind Speed (mph)\")   \n",
    "plt.show()\n"
   ]
  },
  {
   "cell_type": "code",
   "execution_count": null,
   "metadata": {},
   "outputs": [],
   "source": [
    "# In the southern hemisphere, wind speeds in a specific city decrease as distance from the equator increases. \n",
    "# The r-squared value is -0.78, supporting this correlation."
   ]
  },
  {
   "cell_type": "code",
   "execution_count": null,
   "metadata": {},
   "outputs": [],
   "source": []
  }
 ],
 "metadata": {
  "kernelspec": {
   "display_name": "Python 3",
   "language": "python",
   "name": "python3"
  },
  "language_info": {
   "codemirror_mode": {
    "name": "ipython",
    "version": 3
   },
   "file_extension": ".py",
   "mimetype": "text/x-python",
   "name": "python",
   "nbconvert_exporter": "python",
   "pygments_lexer": "ipython3",
   "version": "3.7.4"
  }
 },
 "nbformat": 4,
 "nbformat_minor": 2
}
